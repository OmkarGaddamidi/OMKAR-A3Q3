{
 "cells": [
  {
   "cell_type": "code",
   "execution_count": 1,
   "id": "b995f2c2",
   "metadata": {},
   "outputs": [
    {
     "name": "stdout",
     "output_type": "stream",
     "text": [
      "original string :  The quick Brown Fox\n",
      "No. of Upper case characters : 1\n",
      "No. of Upper case characters : 0\n",
      "original string :  The quick Brown Fox\n",
      "No. of Upper case characters : 1\n",
      "No. of Upper case characters : 1\n",
      "original string :  The quick Brown Fox\n",
      "No. of Upper case characters : 1\n",
      "No. of Upper case characters : 2\n",
      "original string :  The quick Brown Fox\n",
      "No. of Upper case characters : 1\n",
      "No. of Upper case characters : 2\n",
      "original string :  The quick Brown Fox\n",
      "No. of Upper case characters : 1\n",
      "No. of Upper case characters : 3\n",
      "original string :  The quick Brown Fox\n",
      "No. of Upper case characters : 1\n",
      "No. of Upper case characters : 4\n",
      "original string :  The quick Brown Fox\n",
      "No. of Upper case characters : 1\n",
      "No. of Upper case characters : 5\n",
      "original string :  The quick Brown Fox\n",
      "No. of Upper case characters : 1\n",
      "No. of Upper case characters : 6\n",
      "original string :  The quick Brown Fox\n",
      "No. of Upper case characters : 1\n",
      "No. of Upper case characters : 7\n",
      "original string :  The quick Brown Fox\n",
      "No. of Upper case characters : 1\n",
      "No. of Upper case characters : 7\n",
      "original string :  The quick Brown Fox\n",
      "No. of Upper case characters : 2\n",
      "No. of Upper case characters : 7\n",
      "original string :  The quick Brown Fox\n",
      "No. of Upper case characters : 2\n",
      "No. of Upper case characters : 8\n",
      "original string :  The quick Brown Fox\n",
      "No. of Upper case characters : 2\n",
      "No. of Upper case characters : 9\n",
      "original string :  The quick Brown Fox\n",
      "No. of Upper case characters : 2\n",
      "No. of Upper case characters : 10\n",
      "original string :  The quick Brown Fox\n",
      "No. of Upper case characters : 2\n",
      "No. of Upper case characters : 11\n",
      "original string :  The quick Brown Fox\n",
      "No. of Upper case characters : 2\n",
      "No. of Upper case characters : 11\n",
      "original string :  The quick Brown Fox\n",
      "No. of Upper case characters : 3\n",
      "No. of Upper case characters : 11\n",
      "original string :  The quick Brown Fox\n",
      "No. of Upper case characters : 3\n",
      "No. of Upper case characters : 12\n",
      "original string :  The quick Brown Fox\n",
      "No. of Upper case characters : 3\n",
      "No. of Upper case characters : 13\n"
     ]
    }
   ],
   "source": [
    "def string_test(s):\n",
    "    d={\"UPPER_CASE\":0,\"LOWER_CASE\":0}\n",
    "    for c in s:\n",
    "        if c.isupper():\n",
    "            d[\"UPPER_CASE\"]+=1\n",
    "        elif c.islower():\n",
    "            d[\"LOWER_CASE\"]+=1\n",
    "        else:\n",
    "            pass\n",
    "        print(\"original string : \",s)\n",
    "        print(\"No. of Upper case characters :\",d[\"UPPER_CASE\"])\n",
    "        print(\"No. of Upper case characters :\",d[\"LOWER_CASE\"])\n",
    "        \n",
    "string_test('The quick Brown Fox')"
   ]
  }
 ],
 "metadata": {
  "kernelspec": {
   "display_name": "Python 3 (ipykernel)",
   "language": "python",
   "name": "python3"
  },
  "language_info": {
   "codemirror_mode": {
    "name": "ipython",
    "version": 3
   },
   "file_extension": ".py",
   "mimetype": "text/x-python",
   "name": "python",
   "nbconvert_exporter": "python",
   "pygments_lexer": "ipython3",
   "version": "3.10.2"
  }
 },
 "nbformat": 4,
 "nbformat_minor": 5
}
